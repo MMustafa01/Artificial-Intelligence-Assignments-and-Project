{
  "cells": [
    {
      "cell_type": "code",
      "execution_count": 1,
      "metadata": {
        "id": "t50G8DohE8uo"
      },
      "outputs": [],
      "source": [
        "import csv\n",
        "import pandas as pd\n",
        "import sklearn\n",
        "from sklearn.model_selection import train_test_split\n",
        "import math\n",
        "from sklearn import svm\n",
        "from sklearn.neural_network import MLPClassifier\n",
        "from sklearn.tree import DecisionTreeClassifier\n",
        "from sklearn.naive_bayes import GaussianNB"
      ]
    },
    {
      "cell_type": "code",
      "execution_count": 2,
      "metadata": {
        "id": "yk0B4BajE8ut"
      },
      "outputs": [],
      "source": [
        "def load_file(fileName): \n",
        "    dataset = pd.read_table(fileName, header=0, sep=\",\", encoding=\"unicode_escape\")   \n",
        "    return dataset"
      ]
    },
    {
      "cell_type": "code",
      "source": [
        "print(\"Loading data.....\")\n",
        "training = load_file(r\"/content/fashion-mnist_train.csv\")\n",
        "test = load_file(r\"/content/fashion-mnist_test.csv\")\n",
        "\n",
        "training_Y, training_X = training['label'], training.loc[:,training.columns!='label']\n",
        "test_Y, test_X = test['label'], test.loc[:,test.columns!='label']\n",
        "\n",
        "#Split the data into training (66%) and test (34%) \n",
        "print(\"Splitting data.....\")\n"
      ],
      "metadata": {
        "colab": {
          "base_uri": "https://localhost:8080/"
        },
        "id": "DDv_aVTuWvX4",
        "outputId": "7d2b7561-ffcc-4e73-8154-6b358ede9cb8"
      },
      "execution_count": 3,
      "outputs": [
        {
          "output_type": "stream",
          "name": "stdout",
          "text": [
            "Loading data.....\n",
            "Splitting data.....\n"
          ]
        }
      ]
    },
    {
      "cell_type": "code",
      "source": [
        "#Learn a classifier \n",
        "print(\"----------------------------------\")\n",
        "print(\"Learning <Classifier Nave Bayses>\") \n",
        "NBC = GaussianNB()\n",
        "\n",
        "\n",
        "print(NBC)\n",
        "\n",
        "NBC.fit(training_X, training_Y) #trainnig_X, training_Y\n",
        "print(\"----------------------------------\")\n",
        "\n",
        "\n",
        "# Predicted\n",
        "predicted = NBC.predict(test_X)\n",
        "\n",
        "\n",
        "#Evaluate results\n",
        "accuracy = precision = recall = f_measure = -1    \n",
        "print(\"Evaluating results.....\")\n",
        "accuracy = sklearn.metrics.accuracy_score(test_Y, predicted)\n",
        "print(accuracy)\n",
        "precision, recall, f_measure, _ = sklearn.metrics.precision_recall_fscore_support(test_Y, predicted, average=None)\n",
        "\n",
        "confusion_matrix=sklearn.metrics.confusion_matrix(test_Y, predicted)\n",
        "\n",
        "print(\"Accuracy:\",accuracy)\n",
        "print(\"Precision:\",precision)\n",
        "print(\"Recall:\",recall)\n",
        "print(\"F-measure:\",f_measure)\n",
        "print (\"Confusion Matrix:\",confusion_matrix)"
      ],
      "metadata": {
        "colab": {
          "base_uri": "https://localhost:8080/"
        },
        "id": "7roEN5QNAf-D",
        "outputId": "5b59af3e-ea6c-43ba-ccdc-26b663a8f369"
      },
      "execution_count": 4,
      "outputs": [
        {
          "output_type": "stream",
          "name": "stdout",
          "text": [
            "----------------------------------\n",
            "Learning <Classifier Nave Bayses>\n",
            "GaussianNB()\n",
            "----------------------------------\n",
            "Evaluating results.....\n",
            "0.5914\n",
            "Accuracy: 0.5914\n",
            "Precision: [0.82614743 0.6871345  0.61247637 0.45544554 0.37777778 0.89473684\n",
            " 0.31932773 0.49974451 0.82963827 0.91582003]\n",
            "Recall: [0.594 0.94  0.324 0.644 0.765 0.289 0.038 0.978 0.711 0.631]\n",
            "F-measure: [0.69109948 0.79391892 0.42380641 0.53355427 0.50578512 0.43688587\n",
            " 0.06791778 0.66148123 0.76575121 0.74718769]\n",
            "Confusion Matrix: [[594  42  25 196  87   0  16   0  40   0]\n",
            " [  0 940  16  33   2   1   8   0   0   0]\n",
            " [  4   7 324  68 553   0  21   0  23   0]\n",
            " [  6 311   6 644  25   0   5   0   3   0]\n",
            " [  0  33  37 155 765   0   1   0   9   0]\n",
            " [  1   1   1   2   0 289   6 648  14  38]\n",
            " [113  32 103 236 432   0  38   0  46   0]\n",
            " [  0   0   0   0   0   3   0 978   0  19]\n",
            " [  1   2  17  79 161   3  22   3 711   1]\n",
            " [  0   0   0   1   0  27   2 328  11 631]]\n"
          ]
        }
      ]
    },
    {
      "cell_type": "code",
      "source": [
        "#Learn a classifier \n",
        "print(\"----------------------------------\")\n",
        "print(\"Learning <Classifier Multi Layr Perceptron>\") \n",
        "MLP = MLPClassifier(hidden_layer_sizes= (100,), max_iter = 100)\n",
        "print(MLP)\n",
        "# MLP.fit(trainnig_X, training_Y)\n",
        "MLP.fit(training_X, training_Y) #trainnig_X, training_Y\n",
        "print(\"----------------------------------\")\n",
        "\n",
        "\n",
        "# Predicted\n",
        "predicted = MLP.predict(test_X)\n",
        "\n",
        "#Evaluate results\n",
        "accuracy = precision = recall = f_measure = -1    \n",
        "print(\"Evaluating results.....\")\n",
        "accuracy = sklearn.metrics.accuracy_score(test_Y, predicted)\n",
        "print(accuracy)\n",
        "precision, recall, f_measure, _ = sklearn.metrics.precision_recall_fscore_support(test_Y, predicted, average=None)\n",
        "\n",
        "confusion_matrix=sklearn.metrics.confusion_matrix(test_Y, predicted)\n",
        "\n",
        "print(\"Accuracy:\",accuracy)\n",
        "print(\"Precision:\",precision)\n",
        "print(\"Recall:\",recall)\n",
        "print(\"F-measure:\",f_measure)\n",
        "print (\"Confusion Matrix:\",confusion_matrix)"
      ],
      "metadata": {
        "colab": {
          "base_uri": "https://localhost:8080/"
        },
        "id": "JGrTIyxBWqjP",
        "outputId": "276b7de0-fcf8-4724-f3da-7f2c3147a3d7"
      },
      "execution_count": null,
      "outputs": [
        {
          "output_type": "stream",
          "name": "stdout",
          "text": [
            "----------------------------------\n",
            "Learning <Classifier Multi Layr Perceptron>\n",
            "MLPClassifier(max_iter=100)\n"
          ]
        }
      ]
    },
    {
      "cell_type": "code",
      "source": [
        "# Learn a classifier\n",
        "print(\"----------------------------------\")\n",
        "print(\"Learning <Classifier Decision Tree>\")\n",
        "DTC = DecisionTreeClassifier()\n",
        "DTC.fit(training_X,training_Y)\n",
        "print(\"----------------------------------\")\n",
        "\n",
        "# Prediction\n",
        "print(\"Classifying test data......\") \n",
        "predicted = DTC.predict(test_X)\n",
        "print(predicted)\n",
        "\n",
        "#Evaluate results\n",
        "accuracy = precision = recall = f_measure = -1    \n",
        "print(\"Evaluating results.....\")\n",
        "accuracy = sklearn.metrics.accuracy_score(test_Y, predicted)\n",
        "precision, recall, f_measure, _ = sklearn.metrics.precision_recall_fscore_support(test_Y, predicted, average=None)\n",
        "\n",
        "confusion_matrix=sklearn.metrics.confusion_matrix(test_Y, predicted)\n",
        "\n",
        "print(\"Accuracy:\",accuracy)\n",
        "print(\"Precision:\",precision)\n",
        "print(\"Recall:\",recall)\n",
        "print(\"F-measure:\",f_measure)\n",
        "print (\"Confusion Matrix:\",confusion_matrix)"
      ],
      "metadata": {
        "colab": {
          "base_uri": "https://localhost:8080/"
        },
        "id": "X2uDbiFee_PJ",
        "outputId": "e5bf5f15-384e-408b-c5ea-9ca0f89c64aa"
      },
      "execution_count": 6,
      "outputs": [
        {
          "output_type": "stream",
          "name": "stdout",
          "text": [
            "----------------------------------\n",
            "Learning <Classifier Decision Tree>\n",
            "----------------------------------\n",
            "Classifying test data......\n",
            "[0 1 3 ... 8 8 2]\n",
            "Evaluating results.....\n",
            "Accuracy: 0.7959\n",
            "Precision: [0.73399015 0.94308145 0.69143447 0.81957187 0.66311713 0.89969294\n",
            " 0.55809335 0.85262117 0.91666667 0.88545817]\n",
            "Recall: [0.745 0.961 0.67  0.804 0.685 0.879 0.562 0.862 0.902 0.889]\n",
            "F-measure: [0.73945409 0.95195641 0.6805485  0.81171126 0.67388096 0.8892261\n",
            " 0.56003986 0.85728493 0.90927419 0.88722555]\n",
            "Confusion Matrix: [[745   7  21  42   8   3 159   1  13   1]\n",
            " [  7 961   3  18   6   0   4   0   1   0]\n",
            " [ 27   4 670  13 145   3 127   1  10   0]\n",
            " [ 43  32  23 804  56   2  33   0   7   0]\n",
            " [ 11   5 138  53 685   1 100   0   7   0]\n",
            " [  3   1   1   1   2 879   2  57  21  33]\n",
            " [164   8  93  42 114   1 562   0  16   0]\n",
            " [  0   0   0   0   0  56   1 862   4  77]\n",
            " [ 14   1  20   7  16   9  17  10 902   4]\n",
            " [  1   0   0   1   1  23   2  80   3 889]]\n"
          ]
        }
      ]
    },
    {
      "cell_type": "markdown",
      "source": [
        "Please Note that the SVM classife takes alot of time to train. So much so, that I was unable to see it evaluate because the runtime in googlecollab get being disconnected. However, given enough time the SVM classifier could be trained propperly. Also note, that I have implemented 3 other classifiers as well"
      ],
      "metadata": {
        "id": "hPnthKcHBe6Q"
      }
    },
    {
      "cell_type": "code",
      "source": [
        "#Learn a classifier \n",
        "print(\"----------------------------------\")\n",
        "print(\"Learning <Classifier Support Vector Machine>\") \n",
        "SVM = svm.SVC(gamma = 'auto')\n",
        "SVM.fit(training_X,training_Y)\n",
        "\n",
        "print(SVM)\n",
        "# MLP.fit(trainnig_X, training_Y)\n",
        "SVM.fit(training_X, training_Y) #trainnig_X, training_Y\n",
        "print(\"----------------------------------\")\n",
        "\n",
        "\n",
        "# Predicted\n",
        "predicted = SVM.predict(test_X)\n",
        "\n",
        "\n",
        "#Evaluate results\n",
        "accuracy = precision = recall = f_measure = -1    \n",
        "print(\"Evaluating results.....\")\n",
        "accuracy = sklearn.metrics.accuracy_score(test_Y, predicted)\n",
        "print(accuracy)\n",
        "precision, recall, f_measure, _ = sklearn.metrics.precision_recall_fscore_support(test_Y, predicted, average=None)\n",
        "\n",
        "confusion_matrix=sklearn.metrics.confusion_matrix(test_Y, predicted)\n",
        "\n",
        "print(\"Accuracy:\",accuracy)\n",
        "print(\"Precision:\",precision)\n",
        "print(\"Recall:\",recall)\n",
        "print(\"F-measure:\",f_measure)\n",
        "print (\"Confusion Matrix:\",confusion_matrix)\n"
      ],
      "metadata": {
        "colab": {
          "base_uri": "https://localhost:8080/"
        },
        "id": "Nj0Ib-AtkpG-",
        "outputId": "da9e38f1-d1af-4024-ea49-76c36a3df319"
      },
      "execution_count": null,
      "outputs": [
        {
          "output_type": "stream",
          "name": "stdout",
          "text": [
            "----------------------------------\n",
            "Learning <Classifier Support Vector Machine>\n"
          ]
        }
      ]
    },
    {
      "cell_type": "code",
      "execution_count": null,
      "metadata": {
        "id": "N724yu2WE8ux"
      },
      "outputs": [],
      "source": []
    }
  ],
  "metadata": {
    "kernelspec": {
      "display_name": "Python 3 (ipykernel)",
      "language": "python",
      "name": "python3"
    },
    "language_info": {
      "codemirror_mode": {
        "name": "ipython",
        "version": 3
      },
      "file_extension": ".py",
      "mimetype": "text/x-python",
      "name": "python",
      "nbconvert_exporter": "python",
      "pygments_lexer": "ipython3",
      "version": "3.9.7"
    },
    "colab": {
      "provenance": []
    },
    "accelerator": "GPU"
  },
  "nbformat": 4,
  "nbformat_minor": 0
}